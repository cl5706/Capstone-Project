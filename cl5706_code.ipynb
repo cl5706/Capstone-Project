{
  "nbformat": 4,
  "nbformat_minor": 0,
  "metadata": {
    "colab": {
      "provenance": [],
      "machine_shape": "hm"
    },
    "kernelspec": {
      "name": "python3",
      "display_name": "Python 3"
    },
    "language_info": {
      "name": "python"
    },
    "gpuClass": "premium",
    "accelerator": "GPU"
  },
  "cells": [
    {
      "cell_type": "markdown",
      "source": [
        "# Capstone project Chang Liu cl5706"
      ],
      "metadata": {
        "id": "HCsX0a4B9m0d"
      }
    },
    {
      "cell_type": "markdown",
      "source": [
        "###1. Load the data"
      ],
      "metadata": {
        "id": "_-rycaDX99xL"
      }
    },
    {
      "cell_type": "code",
      "execution_count": null,
      "metadata": {
        "id": "KC1Wae53OfEi"
      },
      "outputs": [],
      "source": [
        "import os\n",
        "import torch\n",
        "import torch.nn as nn\n",
        "from torch.utils.data import Dataset, DataLoader\n",
        "from torchvision import datasets\n",
        "from torchvision.transforms import ToTensor\n",
        "import numpy as np\n",
        "import cv2\n",
        "import pickle as pkl\n",
        "import matplotlib.pyplot as plt\n",
        "from torchvision.utils import save_image"
      ]
    },
    {
      "cell_type": "code",
      "source": [
        "from google.colab import drive\n",
        "drive.mount('/content/gdrive')"
      ],
      "metadata": {
        "id": "z_mWskyHS6pp",
        "colab": {
          "base_uri": "https://localhost:8080/"
        },
        "outputId": "75dc12ac-228b-4f0f-c713-c8e290b098b3"
      },
      "execution_count": null,
      "outputs": [
        {
          "output_type": "stream",
          "name": "stdout",
          "text": [
            "Drive already mounted at /content/gdrive; to attempt to forcibly remount, call drive.mount(\"/content/gdrive\", force_remount=True).\n"
          ]
        }
      ]
    },
    {
      "cell_type": "code",
      "source": [
        "!unzip \"/content/gdrive/My Drive/data.zip\""
      ],
      "metadata": {
        "id": "OYNK6WdeTB6t",
        "colab": {
          "base_uri": "https://localhost:8080/"
        },
        "outputId": "0d79a9a9-46e7-45d9-d5c5-09bd68c306f8"
      },
      "execution_count": null,
      "outputs": [
        {
          "output_type": "stream",
          "name": "stdout",
          "text": [
            "Archive:  /content/gdrive/My Drive/data.zip\n",
            "  inflating: test/test/testX.pt      \n",
            "  inflating: train/train/trainX.pt   \n",
            "  inflating: train/train/trainY.pt   \n"
          ]
        }
      ]
    },
    {
      "cell_type": "code",
      "source": [
        "device = torch.device('cuda:0' if torch.cuda.is_available() else 'cpu')"
      ],
      "metadata": {
        "id": "9gKVfphYOjoy"
      },
      "execution_count": null,
      "outputs": []
    },
    {
      "cell_type": "code",
      "source": [
        "trainx = torch.load('/content/train/train/trainX.pt')"
      ],
      "metadata": {
        "id": "2unGIyxSOp6r"
      },
      "execution_count": null,
      "outputs": []
    },
    {
      "cell_type": "code",
      "source": [
        "trainy = torch.load('/content/train/train/trainY.pt')"
      ],
      "metadata": {
        "id": "iPJd0SHE-b_N"
      },
      "execution_count": null,
      "outputs": []
    },
    {
      "cell_type": "code",
      "source": [
        "testx = torch.load('/content/test/test/testX.pt')"
      ],
      "metadata": {
        "id": "VmiNzlqC-0rX"
      },
      "execution_count": null,
      "outputs": []
    },
    {
      "cell_type": "code",
      "source": [
        "print(np.shape(trainx[0]))\n",
        "print(np.shape(trainx[1]))\n",
        "print(np.shape(trainx[2]))\n",
        "print(np.shape(testx[0]))"
      ],
      "metadata": {
        "id": "w3Tx6Kax_K0M",
        "colab": {
          "base_uri": "https://localhost:8080/"
        },
        "outputId": "f0503309-db5d-4399-e1b0-381c4330c408"
      },
      "execution_count": null,
      "outputs": [
        {
          "output_type": "stream",
          "name": "stdout",
          "text": [
            "torch.Size([3396, 3, 3, 224, 224])\n",
            "torch.Size([3396, 3, 224, 224])\n",
            "(3396,)\n",
            "torch.Size([849, 3, 3, 224, 224])\n"
          ]
        }
      ]
    },
    {
      "cell_type": "code",
      "source": [
        "num_train = trainx[0].shape[0]\n",
        "num_test = testx[0].shape[0]\n",
        "\n",
        "os.makedirs('./lazydata', exist_ok=True)\n",
        "\n",
        "# Save train data\n",
        "os.makedirs('./lazydata/train', exist_ok=True)\n",
        "os.makedirs('./lazydata/train/X', exist_ok=True)\n",
        "os.makedirs('./lazydata/train/Y', exist_ok=True)\n",
        "for i in range(num_train):\n",
        "    os.makedirs('./lazydata/train/X/{}'.format(i), exist_ok=True)\n",
        "    # rgb\n",
        "    os.makedirs('./lazydata/train/X/{}/rgb'.format(i), exist_ok=True)\n",
        "    for j in range(3):\n",
        "        save_image(trainx[0][i][j]/255, './lazydata/train/X/{}/rgb/{}.png'.format(i, j))\n",
        "    # depth\n",
        "    depth = trainx[1][i].numpy()\n",
        "    np.save('./lazydata/train/X/{}/depth.npy'.format(i), depth)\n",
        "    # field id\n",
        "    pkl.dump(trainx[2][i], open('./lazydata/train/X/{}/field_id.pkl'.format(i), 'wb'))\n",
        "\n",
        "    y = trainy[0][i].numpy()\n",
        "    np.save('./lazydata/train/Y/{}.npy'.format(i), y)\n",
        "print(\"Saved train data\")\n",
        "\n",
        "# Save test data\n",
        "os.makedirs('./lazydata/test', exist_ok=True)\n",
        "os.makedirs('./lazydata/test/X', exist_ok=True)\n",
        "for i in range(num_test):\n",
        "    os.makedirs('./lazydata/test/X/{}'.format(i), exist_ok=True)\n",
        "    # rgb\n",
        "    os.makedirs('./lazydata/test/X/{}/rgb'.format(i), exist_ok=True)\n",
        "    for j in range(3):\n",
        "        save_image(testx[0][i][j]/255, './lazydata/test/X/{}/rgb/{}.png'.format(i, j))\n",
        "    # depth\n",
        "    depth = testx[1][i].numpy()\n",
        "    np.save('./lazydata/test/X/{}/depth.npy'.format(i), depth)\n",
        "    # field id\n",
        "    pkl.dump(testx[2][i], open('./lazydata/test/X/{}/field_id.pkl'.format(i), 'wb'))\n",
        "\n",
        "print(\"Saved test data\")"
      ],
      "metadata": {
        "id": "u7_yDzWs_CCE",
        "colab": {
          "base_uri": "https://localhost:8080/"
        },
        "outputId": "28a789a5-bfc5-414b-ff7e-4f193858cd9f"
      },
      "execution_count": null,
      "outputs": [
        {
          "output_type": "stream",
          "name": "stdout",
          "text": [
            "Saved train data\n",
            "Saved test data\n"
          ]
        }
      ]
    },
    {
      "cell_type": "code",
      "source": [
        "class LazyLoadDataset(Dataset):    \n",
        "    def __init__(self, path, train=True, transform=None):\n",
        "        self.transform=transform\n",
        "        path = path + (\"train/\" if train else \"test/\")\n",
        "        \n",
        "        self.pathX=path+\"X/\"\n",
        "        self.pathY=path+\"Y/\"\n",
        "        self.train=train\n",
        "        self.data=os.listdir(self.pathX)\n",
        "        \n",
        "    def __getitem__(self, idx):\n",
        "        f=self.data[idx]\n",
        "        \n",
        "        #X\n",
        "        #read rgb images\n",
        "        img0=cv2.imread(self.pathX + f +\"/rgb/0.png\")\n",
        "        img1=cv2.imread(self.pathX + f +\"/rgb/1.png\")\n",
        "        img2=cv2.imread(self.pathX + f +\"/rgb/2.png\")\n",
        "        if self.transform is not None:\n",
        "            img0=self.transform(img0)\n",
        "            img1=self.transform(img1)\n",
        "            img2=self.transform(img2)\n",
        "        depth = np.load(self.pathX + f + \"/depth.npy\")\n",
        "        field_id = pkl.load(open(self.pathX + f + \"/field_id.pkl\", \"rb\"))\n",
        "        if(self.train==True):\n",
        "            Y = np.load(self.pathY + f + \".npy\")\n",
        "            return (img0, img1, img2, depth, field_id),Y\n",
        "        else:\n",
        "            return (img0, img1, img2, depth, field_id)\n",
        "    def _len_(self):\n",
        "        return len(self.data)"
      ],
      "metadata": {
        "id": "dzGbrlW3_ONU"
      },
      "execution_count": null,
      "outputs": []
    },
    {
      "cell_type": "code",
      "source": [
        "train_x= LazyLoadDataset(\"./lazydata/\", train=True)\n",
        "test_x= LazyLoadDataset(\"./lazydata/\", train=False)"
      ],
      "metadata": {
        "id": "bGYuFZNjBZut"
      },
      "execution_count": null,
      "outputs": []
    },
    {
      "cell_type": "code",
      "source": [
        "(img0, img1, img2, depth, field_id), Y= train_x[0]\n",
        "plt.imshow(img0[:,:,::-1])\n",
        "#plt.imshow(depth[0])\n",
        "plt.show()"
      ],
      "metadata": {
        "colab": {
          "base_uri": "https://localhost:8080/",
          "height": 269
        },
        "id": "2u_iQsecBa-E",
        "outputId": "7791e29f-ad7f-463d-c4a8-b2995d4e1393"
      },
      "execution_count": null,
      "outputs": [
        {
          "output_type": "display_data",
          "data": {
            "text/plain": [
              "<Figure size 432x288 with 1 Axes>"
            ],
            "image/png": "[encoded data removed]"
          },
          "metadata": {
            "needs_background": "light"
          }
        }
      ]
    },
    {
      "cell_type": "markdown",
      "source": [
        "###2. Data Processing"
      ],
      "metadata": {
        "id": "spUKjh6M-HqF"
      }
    },
    {
      "cell_type": "code",
      "source": [
        "#make list for each images\n",
        "train_img0_ls=[]\n",
        "train_img1_ls=[]\n",
        "train_img2_ls=[]\n",
        "train_depth_ls=[]\n",
        "train_field_ls=[]\n",
        "y_ls=[]\n",
        "for i in range (3396): \n",
        "    (img0, img1, img2, depth, field_id), y = train_x[i]\n",
        "    train_img0_ls.append(img0)\n",
        "    #train_img1_ls.append(img1)\n",
        "    #train_img2_ls.append(img2)\n",
        "    train_depth_ls.append(depth)\n",
        "    #train_field_ls.append(field_id)\n",
        "    y_ls.append(y)"
      ],
      "metadata": {
        "id": "kuPJEQlGBb_B"
      },
      "execution_count": null,
      "outputs": []
    },
    {
      "cell_type": "code",
      "source": [
        "print(len(train_img0_ls))\n",
        "print(len(train_depth_ls))"
      ],
      "metadata": {
        "id": "N1MMsTJMBdqE",
        "colab": {
          "base_uri": "https://localhost:8080/"
        },
        "outputId": "b87088c8-0247-4fdd-d565-6cc0fb598bd9"
      },
      "execution_count": null,
      "outputs": [
        {
          "output_type": "stream",
          "name": "stdout",
          "text": [
            "3396\n",
            "3396\n"
          ]
        }
      ]
    },
    {
      "cell_type": "code",
      "source": [
        "test_img0_ls=[]\n",
        "test_img1_ls=[]\n",
        "test_img2_ls=[]\n",
        "test_depth_ls=[]\n",
        "test_field_ls=[]\n",
        "for i in range (849): \n",
        "    (img0, img1, img2, depth, field_id) = test_x[i]\n",
        "    test_img0_ls.append(img0)\n",
        "    #test_img1_ls.append(img1)\n",
        "    #test_img2_ls.append(img2)\n",
        "    test_field_ls.append(field_id)\n",
        "    test_depth_ls.append(depth)"
      ],
      "metadata": {
        "id": "_P_oLzWfD2cG"
      },
      "execution_count": null,
      "outputs": []
    },
    {
      "cell_type": "code",
      "source": [
        "import pandas as pd \n",
        "print(test_field_ls)\n",
        "df = pd.DataFrame(test_field_ls)\n",
        "df.to_csv('/content/id.csv')"
      ],
      "metadata": {
        "colab": {
          "base_uri": "https://localhost:8080/"
        },
        "id": "nAmThvhSwM0f",
        "outputId": "871675b0-e4c4-48a4-bba7-390dc2159803"
      },
      "execution_count": null,
      "outputs": [
        {
          "output_type": "stream",
          "name": "stdout",
          "text": [
            "['3828', '3062', '1265', '3953', '2101', '2339', '967', '4236', '1267', '2889', '4121', '2182', '2849', '2987', '4203', '1464', '1029', '2898', '3868', '4008', '823', '2481', '36', '2477', '1001', '656', '1586', '381', '3280', '3139', '971', '522', '2084', '871', '2761', '616', '3615', '4093', '4109', '3366', '925', '3479', '811', '3170', '2079', '2427', '1452', '1384', '3088', '598', '1994', '1800', '2171', '907', '3502', '3933', '185', '3719', '711', '373', '2873', '94', '1097', '441', '4180', '3072', '2243', '1827', '734', '964', '1428', '2408', '591', '2797', '2160', '2006', '262', '496', '2261', '3092', '417', '2594', '1254', '3095', '930', '1868', '1741', '306', '382', '4088', '2677', '2679', '3200', '760', '856', '3347', '3855', '111', '315', '3886', '546', '1632', '2805', '2439', '3489', '421', '2289', '3500', '375', '553', '1821', '489', '3750', '3154', '2007', '2288', '3182', '4123', '3671', '3254', '2152', '3427', '3416', '169', '2866', '3346', '104', '3833', '1597', '3572', '2045', '3159', '893', '54', '1782', '3025', '3570', '728', '2330', '571', '201', '3261', '623', '1792', '1526', '27', '4156', '1266', '2419', '2513', '3032', '2509', '1435', '192', '2504', '2650', '3050', '3198', '1544', '3199', '243', '1601', '1584', '1299', '860', '432', '554', '869', '746', '570', '3571', '3006', '2321', '2065', '939', '314', '2329', '271', '491', '4047', '3775', '2799', '1686', '735', '2714', '2570', '2255', '238', '695', '1898', '724', '505', '4003', '1819', '1090', '498', '2270', '657', '3302', '3820', '1619', '3497', '2445', '1474', '650', '1867', '2685', '4002', '822', '818', '1173', '1518', '3982', '2607', '4135', '2847', '1004', '3262', '704', '525', '1511', '1061', '3758', '605', '3247', '3146', '3213', '3096', '2036', '3544', '1729', '1707', '1708', '2861', '2746', '3527', '900', '4020', '2648', '3160', '3832', '416', '2831', '3409', '3583', '4087', '297', '3341', '129', '3250', '1169', '4016', '2024', '4004', '150', '2479', '1765', '1996', '190', '2417', '692', '2328', '2894', '2819', '1836', '1685', '2664', '3267', '1256', '2224', '2521', '1079', '1704', '1845', '935', '2659', '2327', '1910', '3455', '1454', '4105', '3958', '1310', '3737', '3895', '4107', '4092', '3178', '3596', '294', '1058', '3586', '1437', '643', '477', '3218', '3181', '2997', '4031', '189', '3284', '25', '1383', '4128', '3165', '1430', '2823', '2425', '4169', '2571', '1082', '3019', '941', '4154', '2083', '957', '1154', '3839', '4058', '3197', '3104', '89', '2674', '2687', '1416', '3005', '2350', '3282', '4114', '1894', '1258', '2503', '3189', '3196', '1935', '3888', '3375', '2027', '366', '4036', '1406', '719', '1929', '59', '2475', '1214', '3915', '2207', '1096', '407', '1965', '2902', '209', '709', '1119', '3884', '4081', '492', '1074', '2235', '2298', '3187', '3294', '1114', '2658', '4209', '737', '2749', '2937', '1234', '3812', '2385', '3627', '2943', '3589', '805', '4056', '3345', '4184', '1046', '881', '473', '2367', '2652', '14', '981', '1283', '3668', '26', '3077', '2179', '2076', '3847', '1424', '1418', '284', '2480', '65', '2569', '2939', '2978', '4125', '2887', '1166', '2337', '2450', '1045', '2282', '3297', '1160', '1156', '3386', '3193', '2005', '2965', '3358', '394', '62', '3782', '3669', '1348', '891', '2347', '833', '3107', '221', '3718', '1832', '2198', '174', '685', '600', '842', '1678', '3336', '1563', '1680', '1185', '3689', '55', '4141', '817', '3188', '75', '2768', '398', '154', '1567', '4175', '237', '1731', '3239', '2865', '2214', '1051', '1954', '825', '862', '1893', '2695', '1030', '1522', '923', '3350', '1006', '2185', '469', '2258', '3488', '2325', '2795', '1438', '2341', '764', '3258', '410', '3123', '2174', '3542', '3041', '3310', '3905', '3105', '1112', '1344', '2092', '3529', '3475', '3989', '3563', '3214', '471', '982', '889', '1653', '2156', '2598', '3587', '332', '3443', '3075', '2895', '2649', '531', '2097', '1801', '449', '1755', '3403', '658', '4199', '66', '3414', '4085', '146', '2809', '2462', '3900', '1475', '224', '745', '3717', '3515', '1355', '2332', '3760', '976', '3448', '2893', '2718', '3840', '3022', '2287', '2640', '212', '3064', '70', '2246', '1906', '1900', '1724', '580', '1312', '2047', '434', '2713', '2502', '3631', '3789', '2957', '1891', '959', '2014', '3659', '1769', '610', '2568', '3494', '3378', '1966', '1362', '635', '1297', '1078', '1148', '1448', '3860', '1292', '2846', '952', '3230', '3976', '452', '4177', '2145', '1829', '2318', '3013', '1367', '3772', '576', '2717', '1404', '2070', '3796', '4019', '4078', '1374', '2106', '1519', '151', '2196', '2765', '3957', '261', '1927', '3417', '789', '3290', '2468', '1073', '3526', '1624', '2578', '3449', '572', '1876', '4117', '1942', '2919', '195', '766', '2647', '3377', '1191', '1953', '3592', '934', '2088', '3074', '2731', '1158', '3708', '3565', '2964', '2612', '3010', '3424', '1255', '1920', '3135', '1700', '2565', '757', '3185', '3963', '2355', '3873', '3846', '651', '353', '3729', '3793', '3055', '464', '3817', '2854', '3049', '180', '3018', '1874', '795', '3525', '2165', '3869', '4206', '1200', '2839', '3426', '1477', '393', '783', '3578', '1008', '1991', '1814', '1087', '821', '3343', '517', '2804', '1470', '2921', '4178', '2950', '3118', '68', '738', '58', '2702', '4131', '953', '2651', '2661', '2455', '3521', '2015', '418', '2110', '2019', '1264', '4231', '3133', '35', '3926', '293', '2732', '1436', '3580', '3388', '2451', '3851', '3576', '3402', '677', '430', '2924', '1320', '2078', '1168', '4222', '1735', '326', '947', '1227', '2668', '2086', '3970', '2555', '2176', '3429', '2173', '2614', '3453', '1048', '3079', '3322', '2195', '3875', '3362', '3420', '2274', '1494', '654', '2300', '1419', '2492', '567', '3740', '285', '1679', '754', '2386', '1219', '3944', '3907', '1410', '2345', '2960', '3100', '2886', '1778', '3410', '1743', '2778', '3430', '3273', '2730', '1794', '2352', '2899', '3202', '177', '1674', '3325', '2620', '1796', '4035', '3667', '316', '1917', '3057', '2415', '4045', '3887', '2220', '1999', '3398', '1333', '1551', '3337', '3636', '2535', '1359', '3315', '240', '438', '1042', '1648', '1639', '1672', '1358', '3927', '3863', '1321', '1000', '3788', '2486', '1389', '2938', '3838', '2703', '1740', '1651', '406', '2484', '679', '1810', '736', '2821', '302', '3878', '13', '1282', '4167', '3226', '2302', '2370', '1422', '3474', '2955', '601', '84', '2543', '965', '1484', '2781', '2845', '877', '1253', '991', '2297', '1068', '2064', '1012', '429', '619', '2906', '3238', '752', '444', '257', '4214', '513', '213', '2645', '2250', '903', '1235']\n"
          ]
        }
      ]
    },
    {
      "cell_type": "code",
      "source": [
        "print(len(test_img0_ls))"
      ],
      "metadata": {
        "id": "YW4SGe19D3bV",
        "colab": {
          "base_uri": "https://localhost:8080/"
        },
        "outputId": "9ad19b01-3d2c-48f2-cbd1-1613a4a85227"
      },
      "execution_count": null,
      "outputs": [
        {
          "output_type": "stream",
          "name": "stdout",
          "text": [
            "849\n"
          ]
        }
      ]
    },
    {
      "cell_type": "code",
      "source": [
        "#normalize the data\n",
        "#print(train_img0_ls[1])\n",
        "#print(train_depth_ls)\n",
        "def depth_normalization(size, depth):\n",
        "    result=[]\n",
        "    for i in range (size):\n",
        "        depth[i]=depth[i]/1000\n",
        "        min= np.min(depth[i])\n",
        "        max= np.max(depth[i])\n",
        "        temp=max-min\n",
        "        result.append((depth[i] - min) /temp)\n",
        "    return result\n",
        "def rgb_normalization(size, rgb):\n",
        "    result=[]\n",
        "    for i in range (size):\n",
        "        result.append(rgb[i]/255)\n",
        "        # min= np.min(rgb[i])\n",
        "        # max= np.max(rgb[i])\n",
        "        # temp=max-min\n",
        "        # result.append((rgb[i] - min) /temp)\n",
        "    return result"
      ],
      "metadata": {
        "id": "Ma9g9D94D45o"
      },
      "execution_count": null,
      "outputs": []
    },
    {
      "cell_type": "code",
      "source": [
        "train_img0_ls= rgb_normalization(3396, train_img0_ls)\n",
        "#train_img1_ls= rgb_normalization(3396, train_img1_ls)\n",
        "#train_img2_ls= rgb_normalization(3396, train_img2_ls)\n",
        "train_depth_ls= depth_normalization(3396, train_depth_ls)"
      ],
      "metadata": {
        "id": "XS6EkMXQD7cU"
      },
      "execution_count": null,
      "outputs": []
    },
    {
      "cell_type": "code",
      "source": [
        "#print(train_img0_ls[1])\n",
        "print(len(train_depth_ls))\n",
        "print(train_img0_ls[0].shape)"
      ],
      "metadata": {
        "id": "uA_dqymBD98G",
        "colab": {
          "base_uri": "https://localhost:8080/"
        },
        "outputId": "50ab5c85-4d90-4f22-a270-bf1c9944a070"
      },
      "execution_count": null,
      "outputs": [
        {
          "output_type": "stream",
          "name": "stdout",
          "text": [
            "3396\n",
            "(224, 224, 3)\n"
          ]
        }
      ]
    },
    {
      "cell_type": "code",
      "source": [
        "test_img0_ls= rgb_normalization(849, test_img0_ls)\n",
        "#test_img1_ls= rgb_normalization(849, test_img1_ls)\n",
        "#test_img2_ls= rgb_normalization(849, test_img2_ls)\n",
        "test_depth_ls= depth_normalization(849, test_depth_ls)"
      ],
      "metadata": {
        "id": "7S4EZFBXD_Lq"
      },
      "execution_count": null,
      "outputs": []
    },
    {
      "cell_type": "code",
      "source": [
        "#reshape img0 and depth into one (3396,4,224,244) array so that it can be the input of model\n",
        "input_train=np.empty((3396,4,224,224))\n",
        "for i in range (3396):\n",
        "    input_train[i,:,:,:]=(np.concatenate((train_img0_ls[i].reshape((3*224*224)),train_depth_ls[i][0].reshape(224*224))).reshape((4,224,224)))\n"
      ],
      "metadata": {
        "id": "0eYOg9CzEAhT"
      },
      "execution_count": null,
      "outputs": []
    },
    {
      "cell_type": "code",
      "source": [
        "print(input_train.shape)"
      ],
      "metadata": {
        "id": "G8n3x6mqNTA-",
        "colab": {
          "base_uri": "https://localhost:8080/"
        },
        "outputId": "b0239490-6063-43b7-b48a-ef59da7ce6e0"
      },
      "execution_count": null,
      "outputs": [
        {
          "output_type": "stream",
          "name": "stdout",
          "text": [
            "(3396, 4, 224, 224)\n"
          ]
        }
      ]
    },
    {
      "cell_type": "code",
      "source": [
        "input_test=np.empty((849,4,224,224))\n",
        "for i in range (849):\n",
        "    input_test[i,:,:,:]=(np.concatenate((test_img0_ls[i].reshape((3*224*224)),test_depth_ls[i][0].reshape(224*224))).reshape((4,224,224)))"
      ],
      "metadata": {
        "id": "ezYqjNXlElID"
      },
      "execution_count": null,
      "outputs": []
    },
    {
      "cell_type": "code",
      "source": [
        "#torch.save(input_test, '/content/input_test.pt')"
      ],
      "metadata": {
        "id": "lmxpC80_XM8Q"
      },
      "execution_count": null,
      "outputs": []
    },
    {
      "cell_type": "markdown",
      "source": [
        "###3. Train & Test with CNN"
      ],
      "metadata": {
        "id": "GsA6HOCfO3ih"
      }
    },
    {
      "cell_type": "code",
      "source": [
        "#target*1000\n",
        "print(input_test.shape)\n",
        "new_y=[]\n",
        "for i in y_ls:\n",
        "  new_y.append(i*1000)"
      ],
      "metadata": {
        "id": "AvJYOorEON7f",
        "colab": {
          "base_uri": "https://localhost:8080/"
        },
        "outputId": "441fed10-84fa-4f47-ab14-43cdef034e4e"
      },
      "execution_count": null,
      "outputs": [
        {
          "output_type": "stream",
          "name": "stdout",
          "text": [
            "(849, 4, 224, 224)\n"
          ]
        }
      ]
    },
    {
      "cell_type": "code",
      "source": [
        "print(new_y[0])"
      ],
      "metadata": {
        "colab": {
          "base_uri": "https://localhost:8080/"
        },
        "id": "EY8Z1WYKMIkQ",
        "outputId": "af5f9aa9-89f3-47c0-ed1e-43290dfe0495"
      },
      "execution_count": null,
      "outputs": [
        {
          "output_type": "stream",
          "name": "stdout",
          "text": [
            "[ 46.25663281  54.01882972 123.31949604  93.42128747   4.79585883\n",
            "  88.95553402  50.04557647 -35.72904457 -26.10380779  83.38424292\n",
            "  44.12180123 -11.18094372]\n"
          ]
        }
      ]
    },
    {
      "cell_type": "code",
      "source": [
        "data_train = torch.utils.data.TensorDataset(torch.Tensor(input_train),torch.Tensor(new_y))\n",
        "train_loader = DataLoader(data_train, batch_size=128, shuffle=True)"
      ],
      "metadata": {
        "id": "hZvMfHeij26o",
        "colab": {
          "base_uri": "https://localhost:8080/"
        },
        "outputId": "74a547d1-d00f-4fc9-9b1a-39274a3e5310"
      },
      "execution_count": null,
      "outputs": [
        {
          "output_type": "stream",
          "name": "stderr",
          "text": [
            "<ipython-input-20-4c5992d38f9a>:1: UserWarning: Creating a tensor from a list of numpy.ndarrays is extremely slow. Please consider converting the list to a single numpy.ndarray with numpy.array() before converting to a tensor. (Triggered internally at ../torch/csrc/utils/tensor_new.cpp:230.)\n",
            "  data_train = torch.utils.data.TensorDataset(torch.Tensor(input_train),torch.Tensor(new_y))\n"
          ]
        }
      ]
    },
    {
      "cell_type": "code",
      "source": [
        "class block(nn.Module):\n",
        "    expansion = 1\n",
        "    def __init__(\n",
        "        self, in_channels, intermediate_channels, identity_downsample=None, stride=1\n",
        "    ):\n",
        "        super(block, self).__init__()\n",
        "        self.expansion = 4\n",
        "        self.conv1 = nn.Conv2d(\n",
        "            in_channels, intermediate_channels, kernel_size=1, stride=1, padding=0, bias=False\n",
        "        )\n",
        "        self.bn1 = nn.BatchNorm2d(intermediate_channels)\n",
        "        self.conv2 = nn.Conv2d(\n",
        "            intermediate_channels,\n",
        "            intermediate_channels,\n",
        "            kernel_size=3,\n",
        "            stride=stride,\n",
        "            padding=1,\n",
        "            bias=False\n",
        "        )\n",
        "        self.bn2 = nn.BatchNorm2d(intermediate_channels)\n",
        "        self.conv3 = nn.Conv2d(\n",
        "            intermediate_channels,\n",
        "            intermediate_channels * self.expansion,\n",
        "            kernel_size=1,\n",
        "            stride=1,\n",
        "            padding=0,\n",
        "            bias=False\n",
        "        )\n",
        "        self.bn3 = nn.BatchNorm2d(intermediate_channels * self.expansion)\n",
        "        self.relu = nn.ReLU()\n",
        "        self.identity_downsample = identity_downsample\n",
        "        self.stride = stride\n",
        "\n",
        "    def forward(self, x):\n",
        "        identity = x.clone()\n",
        "\n",
        "        x = self.conv1(x)\n",
        "        x = self.bn1(x)\n",
        "        x = self.relu(x)\n",
        "        x = self.conv2(x)\n",
        "        x = self.bn2(x)\n",
        "        x = self.relu(x)\n",
        "        x = self.conv3(x)\n",
        "        x = self.bn3(x)\n",
        "\n",
        "        if self.identity_downsample is not None:\n",
        "            identity = self.identity_downsample(identity)\n",
        "\n",
        "        x += identity\n",
        "        x = self.relu(x)\n",
        "        return x"
      ],
      "metadata": {
        "id": "qCtrOaS0XO0E"
      },
      "execution_count": null,
      "outputs": []
    },
    {
      "cell_type": "code",
      "source": [
        "class ResNet(nn.Module):\n",
        "    def __init__(self, block, layers, image_channels, num_classes):\n",
        "        super(ResNet, self).__init__()\n",
        "        self.in_channels = 64\n",
        "        self.conv1 = nn.Conv2d(image_channels, 64, kernel_size=7, stride=2, padding=3, bias=False)\n",
        "        self.bn1 = nn.BatchNorm2d(64)\n",
        "        self.relu = nn.ReLU()\n",
        "        self.maxpool = nn.MaxPool2d(kernel_size=3, stride=2, padding=1)\n",
        "\n",
        "        # Essentially the entire ResNet architecture are in these 4 lines below\n",
        "        self.layer1 = self._make_layer(\n",
        "        block, layers[0], intermediate_channels=64, stride=1\n",
        "        )\n",
        "        self.layer2 = self._make_layer(\n",
        "        block, layers[1], intermediate_channels=128, stride=2\n",
        "        )\n",
        "        self.layer3 = self._make_layer(\n",
        "        block, layers[2], intermediate_channels=256, stride=2\n",
        "        )\n",
        "        self.layer4 = self._make_layer(\n",
        "        block, layers[3], intermediate_channels=512, stride=2\n",
        "        )\n",
        "\n",
        "        self.avgpool = nn.AdaptiveAvgPool2d((1, 1))\n",
        "        self.fc = nn.Linear(512 * 4, num_classes)\n",
        "\n",
        "    def forward(self, x):\n",
        "        x = self.conv1(x)\n",
        "        x = self.bn1(x)\n",
        "        x = self.relu(x)\n",
        "        x = self.maxpool(x)\n",
        "        #print('success')\n",
        "        x = self.layer1(x)\n",
        "        x = self.layer2(x)\n",
        "        x = self.layer3(x)\n",
        "        x = self.layer4(x)\n",
        "\n",
        "        x = self.avgpool(x)\n",
        "        x = x.reshape(x.shape[0], -1)\n",
        "        x = self.fc(x)\n",
        "\n",
        "        return x\n",
        "\n",
        "    def _make_layer(self, block, num_residual_blocks, intermediate_channels, stride):\n",
        "        identity_downsample = None\n",
        "        layers = []\n",
        "      # Either if we half the input space for ex, 56x56 -> 28x28 (stride=2), or channels changes\n",
        "      # we need to adapt the Identity (skip connection) so it will be able to be added\n",
        "      # to the layer that's ahead\n",
        "        if stride != 1 or self.in_channels != intermediate_channels * 4:\n",
        "          identity_downsample = nn.Sequential(\n",
        "          nn.Conv2d(\n",
        "          self.in_channels,\n",
        "          intermediate_channels * 4,\n",
        "          kernel_size=1,\n",
        "          stride=stride,\n",
        "          bias=False\n",
        "          ),\n",
        "          nn.BatchNorm2d(intermediate_channels * 4),\n",
        "          )\n",
        "\n",
        "        layers.append(\n",
        "        block(self.in_channels, intermediate_channels, identity_downsample, stride)\n",
        "        )\n",
        "\n",
        "        # The expansion size is always 4 for ResNet 50,101,152\n",
        "        self.in_channels = intermediate_channels * 4\n",
        "\n",
        "        # For example for first resnet layer: 256 will be mapped to 64 as intermediate layer,\n",
        "        # then finally back to 256. Hence no identity downsample is needed, since stride = 1,\n",
        "        # and also same amount of channels.\n",
        "        for i in range(num_residual_blocks - 1):\n",
        "          layers.append(block(self.in_channels, intermediate_channels))\n",
        "        return nn.Sequential(*layers)"
      ],
      "metadata": {
        "id": "6-RXpO9VXYgS"
      },
      "execution_count": null,
      "outputs": []
    },
    {
      "cell_type": "code",
      "source": [
        "#For ResNet50 the layer sequence is [3, 4, 6, 3].\n",
        "def ResNet50(img_channel=4, num_classes=12):\n",
        "    return ResNet(block, [3, 4, 6, 3], img_channel, num_classes)"
      ],
      "metadata": {
        "id": "_uvda9uglXe7"
      },
      "execution_count": null,
      "outputs": []
    },
    {
      "cell_type": "code",
      "source": [
        "model_cnn=ResNet50(img_channel=4, num_classes=12)\n",
        "model_cnn=model_cnn.to(device)"
      ],
      "metadata": {
        "id": "Ago_VbzriPvZ"
      },
      "execution_count": null,
      "outputs": []
    },
    {
      "cell_type": "code",
      "source": [
        "#optimizer = torch.optim.SGD(model_cnn.parameters(), lr=0.01, momentum=0.5)\n",
        "#optimizer = torch.optim.RMSprop(model_cnn.parameters())\n",
        "optimizer = torch.optim.Adam(model_cnn.parameters(), lr=0.01)\n"
      ],
      "metadata": {
        "id": "e1S_yhzWT--B"
      },
      "execution_count": null,
      "outputs": []
    },
    {
      "cell_type": "code",
      "source": [
        "def train(train_loader, epoch, model, optimizer, permute_pixels=None, permutation_order=None):\n",
        "    \"\"\"\n",
        "    Train the model for one epoch\n",
        "\n",
        "    Args:\n",
        "        epoch (int): current epoch\n",
        "        model (nn.Module): model to train\n",
        "        optimizer (torch.optim): optimizer to use\n",
        "        permute_pixels (function): function to permute the pixels (default: None)\n",
        "        permutation_order (1D torch array): order of the permutation (default: None)\n",
        "    \"\"\"\n",
        "    model.train()\n",
        "    for batch_idx, (data, target) in enumerate(train_loader):\n",
        "        # send to device\n",
        "        data, target = data.to(device), target.to(device)\n",
        "        \n",
        "        # permute pixels\n",
        "        if permute_pixels is not None:\n",
        "            data = permute_pixels(data,permutation_order)\n",
        "\n",
        "        optimizer.zero_grad()\n",
        "        output = model(data.to(device))\n",
        "        loss = nn.MSELoss()(output.to(device),target.to(device))\n",
        "        loss.backward()\n",
        "        optimizer.step()\n",
        "        if batch_idx % 100 == 0:\n",
        "            print('Train Epoch: {} [{}/{} ({:.0f}%)]\\tLoss: {:.6f}'.format(\n",
        "                epoch, batch_idx * len(data), len(train_loader.dataset),\n",
        "                100. * batch_idx / len(train_loader), loss.item()))\n",
        "            "
      ],
      "metadata": {
        "id": "Vow6Add9S2o9"
      },
      "execution_count": null,
      "outputs": []
    },
    {
      "cell_type": "code",
      "source": [
        "#!apt install psmisc"
      ],
      "metadata": {
        "id": "j0XmrRPQLYHV"
      },
      "execution_count": null,
      "outputs": []
    },
    {
      "cell_type": "code",
      "source": [
        "#!sudo fuser /dev/nvidia*"
      ],
      "metadata": {
        "id": "Q7hhTanmLdcm"
      },
      "execution_count": null,
      "outputs": []
    },
    {
      "cell_type": "code",
      "source": [
        "#!kill -9 630"
      ],
      "metadata": {
        "id": "SZGx2kduLj7z"
      },
      "execution_count": null,
      "outputs": []
    },
    {
      "cell_type": "code",
      "source": [
        "for epoch in range (0,30):\n",
        "  train(train_loader, epoch, model_cnn.to(device), optimizer)"
      ],
      "metadata": {
        "id": "lrNq8ZBRQNey",
        "colab": {
          "base_uri": "https://localhost:8080/"
        },
        "outputId": "aefe3bc6-c6ad-4dc8-9984-4fbcf5da3667"
      },
      "execution_count": null,
      "outputs": [
        {
          "output_type": "stream",
          "name": "stdout",
          "text": [
            "Train Epoch: 0 [0/3396 (0%)]\tLoss: 4442.424805\n",
            "Train Epoch: 1 [0/3396 (0%)]\tLoss: 224.016388\n",
            "Train Epoch: 2 [0/3396 (0%)]\tLoss: 214.369720\n",
            "Train Epoch: 3 [0/3396 (0%)]\tLoss: 134.636215\n",
            "Train Epoch: 4 [0/3396 (0%)]\tLoss: 114.902649\n",
            "Train Epoch: 5 [0/3396 (0%)]\tLoss: 82.758080\n",
            "Train Epoch: 6 [0/3396 (0%)]\tLoss: 87.688034\n",
            "Train Epoch: 7 [0/3396 (0%)]\tLoss: 62.057007\n",
            "Train Epoch: 8 [0/3396 (0%)]\tLoss: 60.931023\n",
            "Train Epoch: 9 [0/3396 (0%)]\tLoss: 53.882626\n",
            "Train Epoch: 10 [0/3396 (0%)]\tLoss: 39.901939\n",
            "Train Epoch: 11 [0/3396 (0%)]\tLoss: 42.682701\n",
            "Train Epoch: 12 [0/3396 (0%)]\tLoss: 43.927795\n",
            "Train Epoch: 13 [0/3396 (0%)]\tLoss: 30.271002\n",
            "Train Epoch: 14 [0/3396 (0%)]\tLoss: 39.719849\n",
            "Train Epoch: 15 [0/3396 (0%)]\tLoss: 28.215176\n",
            "Train Epoch: 16 [0/3396 (0%)]\tLoss: 45.079712\n",
            "Train Epoch: 17 [0/3396 (0%)]\tLoss: 24.220350\n",
            "Train Epoch: 18 [0/3396 (0%)]\tLoss: 26.229015\n",
            "Train Epoch: 19 [0/3396 (0%)]\tLoss: 31.105469\n",
            "Train Epoch: 20 [0/3396 (0%)]\tLoss: 38.522141\n",
            "Train Epoch: 21 [0/3396 (0%)]\tLoss: 22.498785\n",
            "Train Epoch: 22 [0/3396 (0%)]\tLoss: 25.499298\n",
            "Train Epoch: 23 [0/3396 (0%)]\tLoss: 32.957916\n",
            "Train Epoch: 24 [0/3396 (0%)]\tLoss: 29.542065\n",
            "Train Epoch: 25 [0/3396 (0%)]\tLoss: 22.883169\n",
            "Train Epoch: 26 [0/3396 (0%)]\tLoss: 16.566048\n",
            "Train Epoch: 27 [0/3396 (0%)]\tLoss: 20.072817\n",
            "Train Epoch: 28 [0/3396 (0%)]\tLoss: 19.409147\n",
            "Train Epoch: 29 [0/3396 (0%)]\tLoss: 21.138021\n"
          ]
        }
      ]
    },
    {
      "cell_type": "code",
      "source": [
        "#torch.save(model_cnn, '/content/model')"
      ],
      "metadata": {
        "id": "SqJkBKHBOTID"
      },
      "execution_count": null,
      "outputs": []
    },
    {
      "cell_type": "code",
      "source": [
        "# input_test=torch.Tensor(input_test).to(device)\n",
        "# torch=model_cnn(input_test)"
      ],
      "metadata": {
        "id": "bK-D1c49qBHQ"
      },
      "execution_count": null,
      "outputs": []
    },
    {
      "cell_type": "code",
      "source": [
        "#torch.cuda.memory_summary(device=None, abbreviated=False)"
      ],
      "metadata": {
        "id": "tQHSPEi7YltU"
      },
      "execution_count": null,
      "outputs": []
    },
    {
      "cell_type": "code",
      "source": [
        "print(input_test.shape)"
      ],
      "metadata": {
        "colab": {
          "base_uri": "https://localhost:8080/"
        },
        "id": "cKQcXfAhpRe0",
        "outputId": "73b5103c-5039-4314-cacb-46a66faf8c78"
      },
      "execution_count": null,
      "outputs": [
        {
          "output_type": "stream",
          "name": "stdout",
          "text": [
            "(849, 4, 224, 224)\n"
          ]
        }
      ]
    },
    {
      "cell_type": "code",
      "source": [
        "test_loader = DataLoader(torch.Tensor(input_test).to(device))"
      ],
      "metadata": {
        "id": "MXQXcM3gnhZa"
      },
      "execution_count": null,
      "outputs": []
    },
    {
      "cell_type": "code",
      "source": [
        "result=[]\n",
        "for i in test_loader:\n",
        "  result.append(model_cnn(i))"
      ],
      "metadata": {
        "id": "2JZ-BC-xsHEb"
      },
      "execution_count": null,
      "outputs": []
    },
    {
      "cell_type": "code",
      "source": [
        "len(result)"
      ],
      "metadata": {
        "colab": {
          "base_uri": "https://localhost:8080/"
        },
        "id": "pu48F2ysnwzG",
        "outputId": "0b5ea745-75d3-406e-8ce6-623183c1533f"
      },
      "execution_count": null,
      "outputs": [
        {
          "output_type": "execute_result",
          "data": {
            "text/plain": [
              "11"
            ]
          },
          "metadata": {},
          "execution_count": 31
        }
      ]
    },
    {
      "cell_type": "code",
      "source": [
        "import pandas as pd\n",
        "df = pd.DataFrame(columns=['1','2','3','4','5','6','7','8','9','10','11','12'])\n",
        "print(df)"
      ],
      "metadata": {
        "colab": {
          "base_uri": "https://localhost:8080/"
        },
        "id": "q2BZN45qpBaZ",
        "outputId": "5e34d0d1-c302-4c75-b6f7-29c7a70fd5c6"
      },
      "execution_count": null,
      "outputs": [
        {
          "output_type": "stream",
          "name": "stdout",
          "text": [
            "Empty DataFrame\n",
            "Columns: [1, 2, 3, 4, 5, 6, 7, 8, 9, 10, 11, 12]\n",
            "Index: []\n"
          ]
        }
      ]
    },
    {
      "cell_type": "code",
      "source": [
        "for i in range (11):\n",
        "  temp=result[i][0].to('cpu')\n",
        "  temp=temp/1000\n",
        "  df.loc[len(df.index)]=temp.detach().numpy()\n",
        "\n",
        "print(df)"
      ],
      "metadata": {
        "colab": {
          "base_uri": "https://localhost:8080/"
        },
        "id": "_kr0iieFoxFl",
        "outputId": "ec30b37a-b967-40bb-9cf5-d4e7e7f30259"
      },
      "execution_count": null,
      "outputs": [
        {
          "output_type": "stream",
          "name": "stdout",
          "text": [
            "           1         2         3         4         5         6         7  \\\n",
            "0   0.044913  0.054191  0.122307  0.071777  0.000062  0.102146  0.057254   \n",
            "1   0.045948  0.053963  0.120883  0.068773  0.000621  0.103769  0.056606   \n",
            "2   0.045299  0.054078  0.121574  0.067770  0.001307  0.104968  0.055473   \n",
            "3   0.043860  0.053715  0.121360  0.068521  0.000815  0.104736  0.057252   \n",
            "4   0.045529  0.054836  0.123229  0.074148  0.000890  0.102707  0.059079   \n",
            "5   0.046667  0.052843  0.117973  0.071829  0.000733  0.096683  0.056293   \n",
            "6   0.045780  0.054600  0.122118  0.072969  0.000443  0.102978  0.058975   \n",
            "7   0.044472  0.052448  0.117577  0.069722  0.000648  0.094871  0.056258   \n",
            "8   0.046298  0.053674  0.120244  0.073229  0.000020  0.098878  0.057471   \n",
            "9   0.045870  0.054827  0.123534  0.070457  0.000377  0.105469  0.056645   \n",
            "10  0.046717  0.053562  0.119713  0.075248  0.000143  0.095562  0.058102   \n",
            "\n",
            "           8         9        10        11        12  \n",
            "0  -0.042705  0.048823  0.061942  0.031148 -0.038471  \n",
            "1  -0.045028  0.063163  0.059215  0.035678 -0.034986  \n",
            "2  -0.045443  0.063695  0.058867  0.036331 -0.034842  \n",
            "3  -0.042924  0.048497  0.060684  0.033139 -0.037728  \n",
            "4  -0.043024  0.039189  0.063007  0.034672 -0.038019  \n",
            "5  -0.042788  0.048900  0.059797  0.035236 -0.035593  \n",
            "6  -0.043483  0.042289  0.061041  0.038339 -0.034053  \n",
            "7  -0.042834  0.055961  0.058324  0.035335 -0.034859  \n",
            "8  -0.042207  0.047768  0.061005  0.037462 -0.036322  \n",
            "9  -0.045299  0.062112  0.061593  0.033366 -0.039101  \n",
            "10 -0.042122  0.043646  0.060596  0.038815 -0.035446  \n"
          ]
        }
      ]
    },
    {
      "cell_type": "code",
      "source": [
        "df.to_csv('/content/part3.csv')"
      ],
      "metadata": {
        "id": "_n8U41vNonkv"
      },
      "execution_count": null,
      "outputs": []
    },
    {
      "cell_type": "code",
      "source": [
        "second_part=input_test[416:-1,:,:,:]\n",
        "print(input_test.shape)\n",
        "print(second_part.shape)"
      ],
      "metadata": {
        "colab": {
          "base_uri": "https://localhost:8080/"
        },
        "id": "0SuyuaUnpVWK",
        "outputId": "98ec5498-c983-41dd-b614-39268f71e43b"
      },
      "execution_count": null,
      "outputs": [
        {
          "output_type": "stream",
          "name": "stdout",
          "text": [
            "(849, 4, 224, 224)\n",
            "(432, 4, 224, 224)\n"
          ]
        }
      ]
    },
    {
      "cell_type": "code",
      "source": [
        "\n",
        "third_part=input_test[837:-1,:,:,:]\n",
        "print(third_part.shape)"
      ],
      "metadata": {
        "colab": {
          "base_uri": "https://localhost:8080/"
        },
        "id": "ZRycf1D6qXA8",
        "outputId": "ab6a590a-6460-4243-98dc-ca9ab823a118"
      },
      "execution_count": null,
      "outputs": [
        {
          "output_type": "stream",
          "name": "stdout",
          "text": [
            "(11, 4, 224, 224)\n"
          ]
        }
      ]
    },
    {
      "cell_type": "code",
      "source": [
        "#input_test=torch.Tensor(input_test).to(device)\n",
        "test_loader = DataLoader(torch.Tensor(third_part).to(device))\n"
      ],
      "metadata": {
        "id": "_vIhyphPQkBi"
      },
      "execution_count": null,
      "outputs": []
    },
    {
      "cell_type": "code",
      "source": [
        "model_cnn=torch.load('/content/model')"
      ],
      "metadata": {
        "id": "v2qmxXPYdRbV"
      },
      "execution_count": null,
      "outputs": []
    },
    {
      "cell_type": "code",
      "source": [
        "result=[]\n",
        "for i in test_loader:\n",
        "  result.append(model_cnn(i))"
      ],
      "metadata": {
        "id": "J7BnQJbwcLAy"
      },
      "execution_count": null,
      "outputs": []
    },
    {
      "cell_type": "code",
      "source": [
        "result=[]\n",
        "for i in range (418,849):\n",
        "  result.append(model_cnn(torch.Tensor(input_test[i]).to(device)))"
      ],
      "metadata": {
        "colab": {
          "base_uri": "https://localhost:8080/",
          "height": 358
        },
        "id": "iUyHRVg8nyj8",
        "outputId": "3cf720fc-f40c-4012-953c-901bc6bcf2e5"
      },
      "execution_count": null,
      "outputs": [
        {
          "output_type": "error",
          "ename": "ValueError",
          "evalue": "ignored",
          "traceback": [
            "\u001b[0;31m---------------------------------------------------------------------------\u001b[0m",
            "\u001b[0;31mValueError\u001b[0m                                Traceback (most recent call last)",
            "\u001b[0;32m<ipython-input-68-aee541b594eb>\u001b[0m in \u001b[0;36m<module>\u001b[0;34m\u001b[0m\n\u001b[1;32m      1\u001b[0m \u001b[0mresult\u001b[0m\u001b[0;34m=\u001b[0m\u001b[0;34m[\u001b[0m\u001b[0;34m]\u001b[0m\u001b[0;34m\u001b[0m\u001b[0;34m\u001b[0m\u001b[0m\n\u001b[1;32m      2\u001b[0m \u001b[0;32mfor\u001b[0m \u001b[0mi\u001b[0m \u001b[0;32min\u001b[0m \u001b[0mrange\u001b[0m \u001b[0;34m(\u001b[0m\u001b[0;36m418\u001b[0m\u001b[0;34m,\u001b[0m\u001b[0;36m849\u001b[0m\u001b[0;34m)\u001b[0m\u001b[0;34m:\u001b[0m\u001b[0;34m\u001b[0m\u001b[0;34m\u001b[0m\u001b[0m\n\u001b[0;32m----> 3\u001b[0;31m   \u001b[0mresult\u001b[0m\u001b[0;34m.\u001b[0m\u001b[0mappend\u001b[0m\u001b[0;34m(\u001b[0m\u001b[0mmodel_cnn\u001b[0m\u001b[0;34m(\u001b[0m\u001b[0mtorch\u001b[0m\u001b[0;34m.\u001b[0m\u001b[0mTensor\u001b[0m\u001b[0;34m(\u001b[0m\u001b[0minput_test\u001b[0m\u001b[0;34m[\u001b[0m\u001b[0mi\u001b[0m\u001b[0;34m]\u001b[0m\u001b[0;34m)\u001b[0m\u001b[0;34m.\u001b[0m\u001b[0mto\u001b[0m\u001b[0;34m(\u001b[0m\u001b[0mdevice\u001b[0m\u001b[0;34m)\u001b[0m\u001b[0;34m)\u001b[0m\u001b[0;34m)\u001b[0m\u001b[0;34m\u001b[0m\u001b[0;34m\u001b[0m\u001b[0m\n\u001b[0m",
            "\u001b[0;32m/usr/local/lib/python3.8/dist-packages/torch/nn/modules/module.py\u001b[0m in \u001b[0;36m_call_impl\u001b[0;34m(self, *input, **kwargs)\u001b[0m\n\u001b[1;32m   1188\u001b[0m         if not (self._backward_hooks or self._forward_hooks or self._forward_pre_hooks or _global_backward_hooks\n\u001b[1;32m   1189\u001b[0m                 or _global_forward_hooks or _global_forward_pre_hooks):\n\u001b[0;32m-> 1190\u001b[0;31m             \u001b[0;32mreturn\u001b[0m \u001b[0mforward_call\u001b[0m\u001b[0;34m(\u001b[0m\u001b[0;34m*\u001b[0m\u001b[0minput\u001b[0m\u001b[0;34m,\u001b[0m \u001b[0;34m**\u001b[0m\u001b[0mkwargs\u001b[0m\u001b[0;34m)\u001b[0m\u001b[0;34m\u001b[0m\u001b[0;34m\u001b[0m\u001b[0m\n\u001b[0m\u001b[1;32m   1191\u001b[0m         \u001b[0;31m# Do not call functions when jit is used\u001b[0m\u001b[0;34m\u001b[0m\u001b[0;34m\u001b[0m\u001b[0;34m\u001b[0m\u001b[0m\n\u001b[1;32m   1192\u001b[0m         \u001b[0mfull_backward_hooks\u001b[0m\u001b[0;34m,\u001b[0m \u001b[0mnon_full_backward_hooks\u001b[0m \u001b[0;34m=\u001b[0m \u001b[0;34m[\u001b[0m\u001b[0;34m]\u001b[0m\u001b[0;34m,\u001b[0m \u001b[0;34m[\u001b[0m\u001b[0;34m]\u001b[0m\u001b[0;34m\u001b[0m\u001b[0;34m\u001b[0m\u001b[0m\n",
            "\u001b[0;32m<ipython-input-17-51651bf8d699>\u001b[0m in \u001b[0;36mforward\u001b[0;34m(self, x)\u001b[0m\n\u001b[1;32m     27\u001b[0m     \u001b[0;32mdef\u001b[0m \u001b[0mforward\u001b[0m\u001b[0;34m(\u001b[0m\u001b[0mself\u001b[0m\u001b[0;34m,\u001b[0m \u001b[0mx\u001b[0m\u001b[0;34m)\u001b[0m\u001b[0;34m:\u001b[0m\u001b[0;34m\u001b[0m\u001b[0;34m\u001b[0m\u001b[0m\n\u001b[1;32m     28\u001b[0m         \u001b[0mx\u001b[0m \u001b[0;34m=\u001b[0m \u001b[0mself\u001b[0m\u001b[0;34m.\u001b[0m\u001b[0mconv1\u001b[0m\u001b[0;34m(\u001b[0m\u001b[0mx\u001b[0m\u001b[0;34m)\u001b[0m\u001b[0;34m\u001b[0m\u001b[0;34m\u001b[0m\u001b[0m\n\u001b[0;32m---> 29\u001b[0;31m         \u001b[0mx\u001b[0m \u001b[0;34m=\u001b[0m \u001b[0mself\u001b[0m\u001b[0;34m.\u001b[0m\u001b[0mbn1\u001b[0m\u001b[0;34m(\u001b[0m\u001b[0mx\u001b[0m\u001b[0;34m)\u001b[0m\u001b[0;34m\u001b[0m\u001b[0;34m\u001b[0m\u001b[0m\n\u001b[0m\u001b[1;32m     30\u001b[0m         \u001b[0mx\u001b[0m \u001b[0;34m=\u001b[0m \u001b[0mself\u001b[0m\u001b[0;34m.\u001b[0m\u001b[0mrelu\u001b[0m\u001b[0;34m(\u001b[0m\u001b[0mx\u001b[0m\u001b[0;34m)\u001b[0m\u001b[0;34m\u001b[0m\u001b[0;34m\u001b[0m\u001b[0m\n\u001b[1;32m     31\u001b[0m         \u001b[0mx\u001b[0m \u001b[0;34m=\u001b[0m \u001b[0mself\u001b[0m\u001b[0;34m.\u001b[0m\u001b[0mmaxpool\u001b[0m\u001b[0;34m(\u001b[0m\u001b[0mx\u001b[0m\u001b[0;34m)\u001b[0m\u001b[0;34m\u001b[0m\u001b[0;34m\u001b[0m\u001b[0m\n",
            "\u001b[0;32m/usr/local/lib/python3.8/dist-packages/torch/nn/modules/module.py\u001b[0m in \u001b[0;36m_call_impl\u001b[0;34m(self, *input, **kwargs)\u001b[0m\n\u001b[1;32m   1188\u001b[0m         if not (self._backward_hooks or self._forward_hooks or self._forward_pre_hooks or _global_backward_hooks\n\u001b[1;32m   1189\u001b[0m                 or _global_forward_hooks or _global_forward_pre_hooks):\n\u001b[0;32m-> 1190\u001b[0;31m             \u001b[0;32mreturn\u001b[0m \u001b[0mforward_call\u001b[0m\u001b[0;34m(\u001b[0m\u001b[0;34m*\u001b[0m\u001b[0minput\u001b[0m\u001b[0;34m,\u001b[0m \u001b[0;34m**\u001b[0m\u001b[0mkwargs\u001b[0m\u001b[0;34m)\u001b[0m\u001b[0;34m\u001b[0m\u001b[0;34m\u001b[0m\u001b[0m\n\u001b[0m\u001b[1;32m   1191\u001b[0m         \u001b[0;31m# Do not call functions when jit is used\u001b[0m\u001b[0;34m\u001b[0m\u001b[0;34m\u001b[0m\u001b[0;34m\u001b[0m\u001b[0m\n\u001b[1;32m   1192\u001b[0m         \u001b[0mfull_backward_hooks\u001b[0m\u001b[0;34m,\u001b[0m \u001b[0mnon_full_backward_hooks\u001b[0m \u001b[0;34m=\u001b[0m \u001b[0;34m[\u001b[0m\u001b[0;34m]\u001b[0m\u001b[0;34m,\u001b[0m \u001b[0;34m[\u001b[0m\u001b[0;34m]\u001b[0m\u001b[0;34m\u001b[0m\u001b[0;34m\u001b[0m\u001b[0m\n",
            "\u001b[0;32m/usr/local/lib/python3.8/dist-packages/torch/nn/modules/batchnorm.py\u001b[0m in \u001b[0;36mforward\u001b[0;34m(self, input)\u001b[0m\n\u001b[1;32m    136\u001b[0m \u001b[0;34m\u001b[0m\u001b[0m\n\u001b[1;32m    137\u001b[0m     \u001b[0;32mdef\u001b[0m \u001b[0mforward\u001b[0m\u001b[0;34m(\u001b[0m\u001b[0mself\u001b[0m\u001b[0;34m,\u001b[0m \u001b[0minput\u001b[0m\u001b[0;34m:\u001b[0m \u001b[0mTensor\u001b[0m\u001b[0;34m)\u001b[0m \u001b[0;34m->\u001b[0m \u001b[0mTensor\u001b[0m\u001b[0;34m:\u001b[0m\u001b[0;34m\u001b[0m\u001b[0;34m\u001b[0m\u001b[0m\n\u001b[0;32m--> 138\u001b[0;31m         \u001b[0mself\u001b[0m\u001b[0;34m.\u001b[0m\u001b[0m_check_input_dim\u001b[0m\u001b[0;34m(\u001b[0m\u001b[0minput\u001b[0m\u001b[0;34m)\u001b[0m\u001b[0;34m\u001b[0m\u001b[0;34m\u001b[0m\u001b[0m\n\u001b[0m\u001b[1;32m    139\u001b[0m \u001b[0;34m\u001b[0m\u001b[0m\n\u001b[1;32m    140\u001b[0m         \u001b[0;31m# exponential_average_factor is set to self.momentum\u001b[0m\u001b[0;34m\u001b[0m\u001b[0;34m\u001b[0m\u001b[0;34m\u001b[0m\u001b[0m\n",
            "\u001b[0;32m/usr/local/lib/python3.8/dist-packages/torch/nn/modules/batchnorm.py\u001b[0m in \u001b[0;36m_check_input_dim\u001b[0;34m(self, input)\u001b[0m\n\u001b[1;32m    408\u001b[0m     \u001b[0;32mdef\u001b[0m \u001b[0m_check_input_dim\u001b[0m\u001b[0;34m(\u001b[0m\u001b[0mself\u001b[0m\u001b[0;34m,\u001b[0m \u001b[0minput\u001b[0m\u001b[0;34m)\u001b[0m\u001b[0;34m:\u001b[0m\u001b[0;34m\u001b[0m\u001b[0;34m\u001b[0m\u001b[0m\n\u001b[1;32m    409\u001b[0m         \u001b[0;32mif\u001b[0m \u001b[0minput\u001b[0m\u001b[0;34m.\u001b[0m\u001b[0mdim\u001b[0m\u001b[0;34m(\u001b[0m\u001b[0;34m)\u001b[0m \u001b[0;34m!=\u001b[0m \u001b[0;36m4\u001b[0m\u001b[0;34m:\u001b[0m\u001b[0;34m\u001b[0m\u001b[0;34m\u001b[0m\u001b[0m\n\u001b[0;32m--> 410\u001b[0;31m             \u001b[0;32mraise\u001b[0m \u001b[0mValueError\u001b[0m\u001b[0;34m(\u001b[0m\u001b[0;34m\"expected 4D input (got {}D input)\"\u001b[0m\u001b[0;34m.\u001b[0m\u001b[0mformat\u001b[0m\u001b[0;34m(\u001b[0m\u001b[0minput\u001b[0m\u001b[0;34m.\u001b[0m\u001b[0mdim\u001b[0m\u001b[0;34m(\u001b[0m\u001b[0;34m)\u001b[0m\u001b[0;34m)\u001b[0m\u001b[0;34m)\u001b[0m\u001b[0;34m\u001b[0m\u001b[0;34m\u001b[0m\u001b[0m\n\u001b[0m\u001b[1;32m    411\u001b[0m \u001b[0;34m\u001b[0m\u001b[0m\n\u001b[1;32m    412\u001b[0m \u001b[0;34m\u001b[0m\u001b[0m\n",
            "\u001b[0;31mValueError\u001b[0m: expected 4D input (got 3D input)"
          ]
        }
      ]
    },
    {
      "cell_type": "code",
      "source": [
        "print(len(result))\n",
        "print(result[0])"
      ],
      "metadata": {
        "colab": {
          "base_uri": "https://localhost:8080/"
        },
        "id": "vkf_RXRYhzll",
        "outputId": "7e6dbaec-446e-4fd9-c5ed-1bb6bad43a29"
      },
      "execution_count": null,
      "outputs": [
        {
          "output_type": "stream",
          "name": "stdout",
          "text": [
            "10\n",
            "tensor([[ 0.0623,  0.0193, -0.0994,  0.0097, -0.1075,  0.2530, -0.0057, -0.0730,\n",
            "          0.1884,  0.0117,  0.0480,  0.0448]], device='cuda:0',\n",
            "       grad_fn=<AddmmBackward0>)\n"
          ]
        }
      ]
    },
    {
      "cell_type": "code",
      "source": [
        "temp=result[0][0].to('cpu')\n",
        "print(temp)"
      ],
      "metadata": {
        "colab": {
          "base_uri": "https://localhost:8080/"
        },
        "id": "3lrAFceliR_W",
        "outputId": "ebdfcee8-3546-4316-9704-13f7a5036c8f"
      },
      "execution_count": null,
      "outputs": [
        {
          "output_type": "stream",
          "name": "stdout",
          "text": [
            "tensor([ 0.2025,  0.0882,  0.0173,  0.2190,  0.0777, -0.0158, -0.1075,  0.0933,\n",
            "        -0.1307,  0.1570,  0.0140, -0.1290], grad_fn=<ToCopyBackward0>)\n"
          ]
        }
      ]
    },
    {
      "cell_type": "code",
      "source": [
        "import pandas as pd\n",
        "df = pd.DataFrame(columns=['1','2','3','4','5','6','7','8','9','10','11','12'])\n",
        "print(df)"
      ],
      "metadata": {
        "colab": {
          "base_uri": "https://localhost:8080/"
        },
        "id": "Fq7NPFCell24",
        "outputId": "0351bef1-aed4-445e-cb06-72ff7cdc8a02"
      },
      "execution_count": null,
      "outputs": [
        {
          "output_type": "stream",
          "name": "stdout",
          "text": [
            "Empty DataFrame\n",
            "Columns: [1, 2, 3, 4, 5, 6, 7, 8, 9, 10, 11, 12]\n",
            "Index: []\n"
          ]
        }
      ]
    },
    {
      "cell_type": "code",
      "source": [
        "for i in range (10):\n",
        "  temp=result[i][0].to('cpu')\n",
        "  df.loc[len(df.index)]=temp.detach().numpy()\n",
        "\n",
        "print(df)"
      ],
      "metadata": {
        "id": "8sG8iY3jjJJA"
      },
      "execution_count": null,
      "outputs": []
    },
    {
      "cell_type": "code",
      "source": [
        "df.to_csv('/content/part3.csv')"
      ],
      "metadata": {
        "id": "lp8HZESvlp2k"
      },
      "execution_count": null,
      "outputs": []
    },
    {
      "cell_type": "code",
      "source": [],
      "metadata": {
        "id": "8x9R_geZm_C_"
      },
      "execution_count": null,
      "outputs": []
    }
  ]
}